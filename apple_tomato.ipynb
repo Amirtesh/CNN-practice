{
 "cells": [
  {
   "cell_type": "code",
   "execution_count": 1,
   "metadata": {},
   "outputs": [],
   "source": [
    "import torch\n",
    "import torch.nn as nn\n",
    "import torch.nn.functional as F\n",
    "import torchvision\n",
    "from torch.utils.data import DataLoader\n",
    "from torchvision.transforms import transforms\n",
    "from torchvision import datasets\n",
    "\n",
    "import matplotlib.pyplot as plt\n",
    "import os\n",
    "from PIL import Image\n",
    "from IPython.display import display\n",
    "import warnings\n",
    "warnings.filterwarnings('ignore')"
   ]
  },
  {
   "cell_type": "code",
   "execution_count": 16,
   "metadata": {},
   "outputs": [],
   "source": [
    "def train_step(model:torch.nn.Module,\n",
    "               dataloader:torch.utils.data.DataLoader,\n",
    "               loss_fn:torch.nn.Module,\n",
    "               optimizer:torch.optim.Optimizer):\n",
    "    model.train()\n",
    "    train_loss,train_acc=0,0\n",
    "    for batch,(X,y) in enumerate(dataloader):\n",
    "        y_pred=model(X)\n",
    "        loss=loss_fn(y_pred,y)\n",
    "        train_loss+=loss.item()\n",
    "        optimizer.zero_grad()\n",
    "        loss.backward()\n",
    "        optimizer.step()\n",
    "        y_pred_class=torch.argmax(torch.softmax(y_pred,dim=1),dim=1)\n",
    "        train_acc+=(y_pred_class==y).sum().item()/len(y_pred)\n",
    "    \n",
    "    train_loss=train_loss/len(dataloader)\n",
    "    train_acc=train_acc/len(dataloader)\n",
    "    return train_loss,train_acc"
   ]
  },
  {
   "cell_type": "code",
   "execution_count": 4,
   "metadata": {},
   "outputs": [],
   "source": [
    "def test_step(model:torch.nn.Module,\n",
    "              dataloader:torch.utils.data.DataLoader,\n",
    "              loss_fn:torch.nn.Module):\n",
    "    model.eval()\n",
    "    test_loss,test_acc=0,0\n",
    "    with torch.inference_mode():\n",
    "        for batch,(X,y) in enumerate(dataloader):\n",
    "            test_pred_logits=model(X)\n",
    "            loss=loss_fn(test_pred_logits,y)\n",
    "            test_loss+=loss.item()\n",
    "            test_pred_labels=test_pred_logits.argmax(dim=1)\n",
    "            test_acc+=(((test_pred_labels==y).sum().item())/len(test_pred_labels))\n",
    "    test_loss=test_loss/len(dataloader)\n",
    "    test_acc=test_acc/len(dataloader)\n",
    "    return test_loss,test_acc"
   ]
  },
  {
   "cell_type": "code",
   "execution_count": 5,
   "metadata": {},
   "outputs": [],
   "source": [
    "path='/home/amirtesh/Downloads/Computers/Python/MachineLearning/Udemy Pytorch/Convolutional neural networks/Apple tomato'"
   ]
  },
  {
   "cell_type": "code",
   "execution_count": 6,
   "metadata": {},
   "outputs": [],
   "source": [
    "train_transform=transforms.Compose([\n",
    "    transforms.Resize(size=(224,224)),\n",
    "    transforms.RandomHorizontalFlip(p=0.5),\n",
    "    transforms.RandomRotation(10),\n",
    "    transforms.ToTensor()\n",
    "])\n",
    "\n",
    "test_transform=transforms.Compose([\n",
    "    transforms.Resize(size=(224,224)),\n",
    "    transforms.ToTensor()\n",
    "])"
   ]
  },
  {
   "cell_type": "code",
   "execution_count": 7,
   "metadata": {},
   "outputs": [],
   "source": [
    "train_data=datasets.ImageFolder(root=os.path.join(path,'train'),transform=train_transform)\n",
    "test_data=datasets.ImageFolder(root=os.path.join(path,'test'),transform=test_transform)"
   ]
  },
  {
   "cell_type": "code",
   "execution_count": 8,
   "metadata": {},
   "outputs": [
    {
     "data": {
      "text/plain": [
       "(294, 97)"
      ]
     },
     "execution_count": 8,
     "metadata": {},
     "output_type": "execute_result"
    }
   ],
   "source": [
    "len(train_data),len(test_data)"
   ]
  },
  {
   "cell_type": "code",
   "execution_count": 9,
   "metadata": {},
   "outputs": [
    {
     "data": {
      "text/plain": [
       "(['apples', 'tomatoes'], {'apples': 0, 'tomatoes': 1})"
      ]
     },
     "execution_count": 9,
     "metadata": {},
     "output_type": "execute_result"
    }
   ],
   "source": [
    "class_names=train_data.classes\n",
    "class_dict=train_data.class_to_idx\n",
    "\n",
    "class_names,class_dict"
   ]
  },
  {
   "cell_type": "code",
   "execution_count": 10,
   "metadata": {},
   "outputs": [],
   "source": [
    "from tqdm import tqdm\n",
    "def train(model:torch.nn.Module,\n",
    "          train_dataloader:torch.utils.data.DataLoader,\n",
    "          test_dataloader:torch.utils.data.DataLoader,\n",
    "          optimizer:torch.optim.Optimizer,\n",
    "          loss_fn:torch.nn.Module,\n",
    "          epochs:int):\n",
    "    \n",
    "    results={'train_loss':[],\n",
    "             'train_acc':[],\n",
    "             'test_loss':[],\n",
    "             'test_acc':[]}\n",
    "    \n",
    "    for i in tqdm(range(epochs)):\n",
    "        train_loss,train_acc=train_step(model=model,\n",
    "                                        dataloader=train_dataloader,\n",
    "                                        loss_fn=loss_fn,\n",
    "                                        optimizer=optimizer)\n",
    "        test_loss,test_acc=test_step(model=model,\n",
    "                                     dataloader=test_dataloader,\n",
    "                                     loss_fn=loss_fn)\n",
    "        print(f'Epoch {i} | Train loss: {train_loss:.4f},Train acc: {train_acc:.4f} | Test loss: {test_loss:.4f},Test acc: {test_acc:.4f}')\n",
    "        results['train_loss'].append(train_loss)\n",
    "        results['train_acc'].append(train_acc)\n",
    "        results['test_loss'].append(test_loss)\n",
    "        results['test_acc'].append(test_acc)\n",
    "\n",
    "    return results"
   ]
  },
  {
   "cell_type": "code",
   "execution_count": 11,
   "metadata": {},
   "outputs": [],
   "source": [
    "class Model(nn.Module):\n",
    "    \n",
    "    def __init__(self):\n",
    "        super().__init__()\n",
    "        self.conv=nn.Sequential(\n",
    "            nn.Conv2d(3,6,3,1),\n",
    "            nn.ReLU(),\n",
    "            nn.MaxPool2d(kernel_size=2,stride=2),\n",
    "            nn.Conv2d(6,16,3,1),\n",
    "            nn.ReLU(),\n",
    "            nn.MaxPool2d(kernel_size=2,stride=2),\n",
    "            nn.Flatten(),\n",
    "            nn.Linear(54*54*16,120),\n",
    "            nn.ReLU(),\n",
    "            nn.Linear(120,84),\n",
    "            nn.ReLU(),\n",
    "            nn.Linear(84,len(class_names))\n",
    "        )\n",
    "\n",
    "    def forward(self,X):\n",
    "        return F.log_softmax(self.conv(X))"
   ]
  },
  {
   "cell_type": "code",
   "execution_count": 12,
   "metadata": {},
   "outputs": [],
   "source": [
    "torch.manual_seed(101)\n",
    "train_loader=DataLoader(dataset=train_data,batch_size=32,shuffle=True,num_workers=os.cpu_count())\n",
    "test_loader=DataLoader(dataset=test_data,batch_size=32,shuffle=False,num_workers=os.cpu_count())"
   ]
  },
  {
   "cell_type": "code",
   "execution_count": 35,
   "metadata": {},
   "outputs": [],
   "source": [
    "torch.manual_seed(101)\n",
    "model=Model()\n",
    "criterion=nn.CrossEntropyLoss()\n",
    "optimizer=torch.optim.Adam(model.parameters(),lr=0.001)"
   ]
  },
  {
   "cell_type": "code",
   "execution_count": 36,
   "metadata": {},
   "outputs": [
    {
     "name": "stderr",
     "output_type": "stream",
     "text": [
      "  5%|▌         | 1/20 [00:02<00:47,  2.50s/it]"
     ]
    },
    {
     "name": "stdout",
     "output_type": "stream",
     "text": [
      "Epoch 0 | Train loss: 0.6538,Train acc: 0.6427 | Test loss: 0.6184,Test acc: 0.7266\n"
     ]
    },
    {
     "name": "stderr",
     "output_type": "stream",
     "text": [
      " 10%|█         | 2/20 [00:04<00:42,  2.38s/it]"
     ]
    },
    {
     "name": "stdout",
     "output_type": "stream",
     "text": [
      "Epoch 1 | Train loss: 0.6448,Train acc: 0.6594 | Test loss: 0.5696,Test acc: 0.7734\n"
     ]
    },
    {
     "name": "stderr",
     "output_type": "stream",
     "text": [
      " 15%|█▌        | 3/20 [00:07<00:40,  2.36s/it]"
     ]
    },
    {
     "name": "stdout",
     "output_type": "stream",
     "text": [
      "Epoch 2 | Train loss: 0.6091,Train acc: 0.6635 | Test loss: 0.5538,Test acc: 0.7578\n"
     ]
    },
    {
     "name": "stderr",
     "output_type": "stream",
     "text": [
      " 20%|██        | 4/20 [00:09<00:37,  2.35s/it]"
     ]
    },
    {
     "name": "stdout",
     "output_type": "stream",
     "text": [
      "Epoch 3 | Train loss: 0.5775,Train acc: 0.6958 | Test loss: 0.5737,Test acc: 0.7656\n"
     ]
    },
    {
     "name": "stderr",
     "output_type": "stream",
     "text": [
      " 25%|██▌       | 5/20 [00:11<00:35,  2.34s/it]"
     ]
    },
    {
     "name": "stdout",
     "output_type": "stream",
     "text": [
      "Epoch 4 | Train loss: 0.5676,Train acc: 0.7146 | Test loss: 0.6787,Test acc: 0.7344\n"
     ]
    },
    {
     "name": "stderr",
     "output_type": "stream",
     "text": [
      " 30%|███       | 6/20 [00:14<00:33,  2.38s/it]"
     ]
    },
    {
     "name": "stdout",
     "output_type": "stream",
     "text": [
      "Epoch 5 | Train loss: 0.5936,Train acc: 0.6385 | Test loss: 0.5242,Test acc: 0.7578\n"
     ]
    },
    {
     "name": "stderr",
     "output_type": "stream",
     "text": [
      " 35%|███▌      | 7/20 [00:16<00:30,  2.37s/it]"
     ]
    },
    {
     "name": "stdout",
     "output_type": "stream",
     "text": [
      "Epoch 6 | Train loss: 0.5495,Train acc: 0.7677 | Test loss: 0.5461,Test acc: 0.7422\n"
     ]
    },
    {
     "name": "stderr",
     "output_type": "stream",
     "text": [
      " 40%|████      | 8/20 [00:18<00:28,  2.36s/it]"
     ]
    },
    {
     "name": "stdout",
     "output_type": "stream",
     "text": [
      "Epoch 7 | Train loss: 0.5098,Train acc: 0.7542 | Test loss: 0.4780,Test acc: 0.7656\n"
     ]
    },
    {
     "name": "stderr",
     "output_type": "stream",
     "text": [
      " 45%|████▌     | 9/20 [00:21<00:26,  2.37s/it]"
     ]
    },
    {
     "name": "stdout",
     "output_type": "stream",
     "text": [
      "Epoch 8 | Train loss: 0.5003,Train acc: 0.7885 | Test loss: 0.4712,Test acc: 0.7891\n"
     ]
    },
    {
     "name": "stderr",
     "output_type": "stream",
     "text": [
      " 50%|█████     | 10/20 [00:23<00:23,  2.38s/it]"
     ]
    },
    {
     "name": "stdout",
     "output_type": "stream",
     "text": [
      "Epoch 9 | Train loss: 0.4670,Train acc: 0.7802 | Test loss: 0.4695,Test acc: 0.7969\n"
     ]
    },
    {
     "name": "stderr",
     "output_type": "stream",
     "text": [
      " 55%|█████▌    | 11/20 [00:26<00:21,  2.35s/it]"
     ]
    },
    {
     "name": "stdout",
     "output_type": "stream",
     "text": [
      "Epoch 10 | Train loss: 0.4353,Train acc: 0.8052 | Test loss: 0.4231,Test acc: 0.7891\n"
     ]
    },
    {
     "name": "stderr",
     "output_type": "stream",
     "text": [
      " 60%|██████    | 12/20 [00:28<00:18,  2.33s/it]"
     ]
    },
    {
     "name": "stdout",
     "output_type": "stream",
     "text": [
      "Epoch 11 | Train loss: 0.3601,Train acc: 0.8677 | Test loss: 0.3789,Test acc: 0.8125\n"
     ]
    },
    {
     "name": "stderr",
     "output_type": "stream",
     "text": [
      " 65%|██████▌   | 13/20 [00:30<00:16,  2.33s/it]"
     ]
    },
    {
     "name": "stdout",
     "output_type": "stream",
     "text": [
      "Epoch 12 | Train loss: 0.3868,Train acc: 0.8229 | Test loss: 0.3726,Test acc: 0.8438\n"
     ]
    },
    {
     "name": "stderr",
     "output_type": "stream",
     "text": [
      " 70%|███████   | 14/20 [00:33<00:14,  2.40s/it]"
     ]
    },
    {
     "name": "stdout",
     "output_type": "stream",
     "text": [
      "Epoch 13 | Train loss: 0.4210,Train acc: 0.7969 | Test loss: 0.3926,Test acc: 0.7891\n"
     ]
    },
    {
     "name": "stderr",
     "output_type": "stream",
     "text": [
      " 75%|███████▌  | 15/20 [00:35<00:12,  2.41s/it]"
     ]
    },
    {
     "name": "stdout",
     "output_type": "stream",
     "text": [
      "Epoch 14 | Train loss: 0.3400,Train acc: 0.8656 | Test loss: 0.4661,Test acc: 0.8125\n"
     ]
    },
    {
     "name": "stderr",
     "output_type": "stream",
     "text": [
      " 80%|████████  | 16/20 [00:37<00:09,  2.39s/it]"
     ]
    },
    {
     "name": "stdout",
     "output_type": "stream",
     "text": [
      "Epoch 15 | Train loss: 0.3439,Train acc: 0.8323 | Test loss: 0.4632,Test acc: 0.8281\n"
     ]
    },
    {
     "name": "stderr",
     "output_type": "stream",
     "text": [
      " 85%|████████▌ | 17/20 [00:40<00:07,  2.39s/it]"
     ]
    },
    {
     "name": "stdout",
     "output_type": "stream",
     "text": [
      "Epoch 16 | Train loss: 0.3418,Train acc: 0.8479 | Test loss: 0.4377,Test acc: 0.7812\n"
     ]
    },
    {
     "name": "stderr",
     "output_type": "stream",
     "text": [
      " 90%|█████████ | 18/20 [00:42<00:04,  2.41s/it]"
     ]
    },
    {
     "name": "stdout",
     "output_type": "stream",
     "text": [
      "Epoch 17 | Train loss: 0.3302,Train acc: 0.8604 | Test loss: 0.3826,Test acc: 0.8438\n"
     ]
    },
    {
     "name": "stderr",
     "output_type": "stream",
     "text": [
      " 95%|█████████▌| 19/20 [00:45<00:02,  2.42s/it]"
     ]
    },
    {
     "name": "stdout",
     "output_type": "stream",
     "text": [
      "Epoch 18 | Train loss: 0.2967,Train acc: 0.8844 | Test loss: 0.4296,Test acc: 0.7734\n"
     ]
    },
    {
     "name": "stderr",
     "output_type": "stream",
     "text": [
      "100%|██████████| 20/20 [00:47<00:00,  2.39s/it]"
     ]
    },
    {
     "name": "stdout",
     "output_type": "stream",
     "text": [
      "Epoch 19 | Train loss: 0.3002,Train acc: 0.8615 | Test loss: 0.3742,Test acc: 0.8516\n"
     ]
    },
    {
     "name": "stderr",
     "output_type": "stream",
     "text": [
      "\n"
     ]
    }
   ],
   "source": [
    "torch.manual_seed(42)\n",
    "\n",
    "n=20\n",
    "model_results=train(\n",
    "    model=model,\n",
    "    train_dataloader=train_loader,\n",
    "    test_dataloader=test_loader,\n",
    "    optimizer=optimizer,\n",
    "    loss_fn=criterion,\n",
    "    epochs=n\n",
    ")"
   ]
  },
  {
   "cell_type": "code",
   "execution_count": 37,
   "metadata": {},
   "outputs": [
    {
     "name": "stdout",
     "output_type": "stream",
     "text": [
      "Actual: apples | Predicted: apples\n",
      "Actual: apples | Predicted: apples\n",
      "Actual: apples | Predicted: tomatoes\n",
      "Actual: apples | Predicted: apples\n",
      "Actual: apples | Predicted: tomatoes\n",
      "Actual: apples | Predicted: apples\n",
      "Actual: apples | Predicted: tomatoes\n",
      "Actual: apples | Predicted: apples\n",
      "Actual: apples | Predicted: tomatoes\n",
      "Actual: apples | Predicted: apples\n",
      "Actual: apples | Predicted: apples\n",
      "Actual: apples | Predicted: apples\n",
      "Actual: apples | Predicted: apples\n",
      "Actual: apples | Predicted: apples\n",
      "Actual: apples | Predicted: apples\n",
      "Actual: apples | Predicted: apples\n",
      "Actual: apples | Predicted: apples\n",
      "Actual: apples | Predicted: apples\n",
      "Actual: apples | Predicted: apples\n",
      "Actual: apples | Predicted: tomatoes\n",
      "Actual: apples | Predicted: apples\n",
      "Actual: apples | Predicted: apples\n",
      "Actual: apples | Predicted: apples\n",
      "Actual: apples | Predicted: apples\n",
      "Actual: apples | Predicted: apples\n",
      "Actual: apples | Predicted: apples\n",
      "Actual: apples | Predicted: apples\n",
      "Actual: apples | Predicted: tomatoes\n",
      "Actual: apples | Predicted: apples\n",
      "Actual: apples | Predicted: apples\n",
      "Actual: apples | Predicted: apples\n",
      "Actual: apples | Predicted: tomatoes\n",
      "Actual: apples | Predicted: apples\n",
      "Actual: apples | Predicted: apples\n",
      "Actual: apples | Predicted: apples\n",
      "Actual: apples | Predicted: apples\n",
      "Actual: apples | Predicted: apples\n",
      "Actual: apples | Predicted: tomatoes\n",
      "Actual: apples | Predicted: apples\n",
      "Actual: apples | Predicted: tomatoes\n",
      "Actual: apples | Predicted: tomatoes\n",
      "Actual: apples | Predicted: apples\n",
      "Actual: apples | Predicted: apples\n",
      "Actual: apples | Predicted: tomatoes\n",
      "Actual: apples | Predicted: apples\n",
      "Actual: apples | Predicted: apples\n",
      "Actual: apples | Predicted: apples\n",
      "Actual: apples | Predicted: apples\n",
      "Actual: apples | Predicted: apples\n",
      "Actual: apples | Predicted: apples\n",
      "Actual: apples | Predicted: apples\n",
      "Actual: apples | Predicted: apples\n",
      "Actual: apples | Predicted: apples\n",
      "Actual: apples | Predicted: tomatoes\n",
      "Actual: tomatoes | Predicted: apples\n",
      "Actual: tomatoes | Predicted: tomatoes\n",
      "Actual: tomatoes | Predicted: tomatoes\n",
      "Actual: tomatoes | Predicted: tomatoes\n",
      "Actual: tomatoes | Predicted: tomatoes\n",
      "Actual: tomatoes | Predicted: tomatoes\n",
      "Actual: tomatoes | Predicted: tomatoes\n",
      "Actual: tomatoes | Predicted: tomatoes\n",
      "Actual: tomatoes | Predicted: apples\n",
      "Actual: tomatoes | Predicted: tomatoes\n",
      "Actual: tomatoes | Predicted: tomatoes\n",
      "Actual: tomatoes | Predicted: tomatoes\n",
      "Actual: tomatoes | Predicted: tomatoes\n",
      "Actual: tomatoes | Predicted: tomatoes\n",
      "Actual: tomatoes | Predicted: tomatoes\n",
      "Actual: tomatoes | Predicted: apples\n",
      "Actual: tomatoes | Predicted: apples\n",
      "Actual: tomatoes | Predicted: tomatoes\n",
      "Actual: tomatoes | Predicted: tomatoes\n",
      "Actual: tomatoes | Predicted: apples\n",
      "Actual: tomatoes | Predicted: tomatoes\n",
      "Actual: tomatoes | Predicted: tomatoes\n",
      "Actual: tomatoes | Predicted: tomatoes\n",
      "Actual: tomatoes | Predicted: tomatoes\n",
      "Actual: tomatoes | Predicted: tomatoes\n",
      "Actual: tomatoes | Predicted: apples\n",
      "Actual: tomatoes | Predicted: tomatoes\n",
      "Actual: tomatoes | Predicted: tomatoes\n",
      "Actual: tomatoes | Predicted: tomatoes\n",
      "Actual: tomatoes | Predicted: apples\n",
      "Actual: tomatoes | Predicted: tomatoes\n",
      "Actual: tomatoes | Predicted: tomatoes\n",
      "Actual: tomatoes | Predicted: tomatoes\n",
      "Actual: tomatoes | Predicted: tomatoes\n",
      "Actual: tomatoes | Predicted: tomatoes\n",
      "Actual: tomatoes | Predicted: tomatoes\n",
      "Actual: tomatoes | Predicted: tomatoes\n",
      "Actual: tomatoes | Predicted: tomatoes\n",
      "Actual: tomatoes | Predicted: tomatoes\n",
      "Actual: tomatoes | Predicted: tomatoes\n",
      "Actual: tomatoes | Predicted: tomatoes\n",
      "Actual: tomatoes | Predicted: tomatoes\n",
      "Actual: tomatoes | Predicted: tomatoes\n",
      "Number of correct: 78/97 | Accuracy: 80.41237113402062\n"
     ]
    }
   ],
   "source": [
    "index=list(range(97))\n",
    "\n",
    "c=0\n",
    "for i in index:\n",
    "    model.eval()\n",
    "    with torch.no_grad():\n",
    "        pred=model(test_data[i][0].view(1,3,224,224)).argmax()\n",
    "\n",
    "    print(f'Actual: {class_names[test_data[i][1]]} | Predicted: {class_names[pred.item()]}')\n",
    "    if class_names[test_data[i][1]]==class_names[pred.item()]:\n",
    "        c+=1\n",
    "\n",
    "print(f'Number of correct: {c}/{len(test_data)} | Accuracy: {c*100/len(test_data)}')"
   ]
  },
  {
   "cell_type": "code",
   "execution_count": 51,
   "metadata": {},
   "outputs": [],
   "source": [
    "def tester(model: nn.Module,\n",
    "           image: str,\n",
    "           transform: torchvision.transforms.transforms,\n",
    "           class_names: list):\n",
    "    \n",
    "    image = torchvision.io.read_image(image)\n",
    "    \n",
    "    # Check if the image has only one channel (grayscale)\n",
    "    if image.shape[0] == 1:\n",
    "        # Convert grayscale image to RGB by duplicating the single channel\n",
    "        image = torch.cat([image, image, image], dim=0)\n",
    "    \n",
    "    image = image.type(torch.float32) / 255\n",
    "    image_new = transform(image)\n",
    "    \n",
    "    model.eval()\n",
    "    with torch.inference_mode():\n",
    "        logit = model(image_new.unsqueeze(0))\n",
    "    \n",
    "    prob = torch.softmax(logit, dim=1)\n",
    "    label = class_names[torch.argmax(prob, dim=1)]\n",
    "    print(f'Predicted breed: {label}')"
   ]
  },
  {
   "cell_type": "code",
   "execution_count": 52,
   "metadata": {},
   "outputs": [],
   "source": [
    "apple1='/home/amirtesh/Downloads/Computers/Python/MachineLearning/Udemy Pytorch/Convolutional neural networks/Apple tomato/apple1.jpg'\n",
    "apple2='/home/amirtesh/Downloads/Computers/Python/MachineLearning/Udemy Pytorch/Convolutional neural networks/Apple tomato/apple2.jpg'\n",
    "apple3='/home/amirtesh/Downloads/Computers/Python/MachineLearning/Udemy Pytorch/Convolutional neural networks/Apple tomato/apple3.jpg'\n",
    "\n",
    "tomato1='/home/amirtesh/Downloads/Computers/Python/MachineLearning/Udemy Pytorch/Convolutional neural networks/Apple tomato/tomato1.jpg'\n",
    "tomato2='/home/amirtesh/Downloads/Computers/Python/MachineLearning/Udemy Pytorch/Convolutional neural networks/Apple tomato/tomato2.jpg'\n",
    "tomato3='/home/amirtesh/Downloads/Computers/Python/MachineLearning/Udemy Pytorch/Convolutional neural networks/Apple tomato/tomato3.jpg'"
   ]
  },
  {
   "cell_type": "code",
   "execution_count": 53,
   "metadata": {},
   "outputs": [],
   "source": [
    "transform=transforms.Compose([\n",
    "    transforms.Resize(size=(224,224)),\n",
    "   \n",
    "])"
   ]
  },
  {
   "cell_type": "code",
   "execution_count": 54,
   "metadata": {},
   "outputs": [
    {
     "name": "stdout",
     "output_type": "stream",
     "text": [
      "Predicted breed: apples\n",
      "Predicted breed: apples\n",
      "Predicted breed: apples\n",
      "Predicted breed: tomatoes\n",
      "Predicted breed: tomatoes\n",
      "Predicted breed: tomatoes\n"
     ]
    }
   ],
   "source": [
    "test_class=[apple1,apple2,apple3,tomato1,tomato2,tomato3]\n",
    "\n",
    "for i in test_class:\n",
    "    \n",
    "    tester(model=model,\n",
    "           image=i,\n",
    "           transform=transform,\n",
    "           class_names=class_names)"
   ]
  },
  {
   "cell_type": "code",
   "execution_count": null,
   "metadata": {},
   "outputs": [],
   "source": []
  }
 ],
 "metadata": {
  "kernelspec": {
   "display_name": "PY_ENV",
   "language": "python",
   "name": "python3"
  },
  "language_info": {
   "codemirror_mode": {
    "name": "ipython",
    "version": 3
   },
   "file_extension": ".py",
   "mimetype": "text/x-python",
   "name": "python",
   "nbconvert_exporter": "python",
   "pygments_lexer": "ipython3",
   "version": "3.10.12"
  }
 },
 "nbformat": 4,
 "nbformat_minor": 2
}
