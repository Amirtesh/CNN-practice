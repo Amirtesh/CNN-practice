{
 "cells": [
  {
   "cell_type": "code",
   "execution_count": 1,
   "metadata": {},
   "outputs": [],
   "source": [
    "import torch\n",
    "import torch.nn as nn\n",
    "import torch.nn.functional as F\n",
    "import torchvision\n",
    "from torch.utils.data import DataLoader\n",
    "from torchvision.transforms import transforms\n",
    "from torchvision import datasets\n",
    "\n",
    "import matplotlib.pyplot as plt\n",
    "import os\n",
    "from PIL import Image\n",
    "from IPython.display import display\n",
    "import warnings\n",
    "warnings.filterwarnings('ignore')"
   ]
  },
  {
   "cell_type": "code",
   "execution_count": 2,
   "metadata": {},
   "outputs": [],
   "source": [
    "path='/home/amirtesh/Downloads/Computers/Python/MachineLearning/Udemy Pytorch/Convolutional neural networks/Pandas Bears'"
   ]
  },
  {
   "cell_type": "code",
   "execution_count": 3,
   "metadata": {},
   "outputs": [],
   "source": [
    "train_transform=transforms.Compose([\n",
    "    transforms.Resize(size=(224,224)),\n",
    "    transforms.RandomHorizontalFlip(0.5),\n",
    "    transforms.RandomRotation(10),\n",
    "    transforms.ToTensor()\n",
    "])\n",
    "\n",
    "test_transform=transforms.Compose([\n",
    "    transforms.Resize(size=(224,224)),\n",
    "    transforms.ToTensor()\n",
    "])"
   ]
  },
  {
   "cell_type": "code",
   "execution_count": 5,
   "metadata": {},
   "outputs": [],
   "source": [
    "train_data=datasets.ImageFolder(os.path.join(path,'train'),transform=train_transform)\n",
    "test_data=datasets.ImageFolder(os.path.join(path,'test'),transform=test_transform)"
   ]
  },
  {
   "cell_type": "code",
   "execution_count": 6,
   "metadata": {},
   "outputs": [
    {
     "data": {
      "text/plain": [
       "(500, 100)"
      ]
     },
     "execution_count": 6,
     "metadata": {},
     "output_type": "execute_result"
    }
   ],
   "source": [
    "len(train_data),len(test_data)"
   ]
  },
  {
   "cell_type": "code",
   "execution_count": 7,
   "metadata": {},
   "outputs": [],
   "source": [
    "torch.manual_seed(101)\n",
    "train_loader=DataLoader(dataset=train_data,batch_size=32,shuffle=True)\n",
    "test_loader=DataLoader(dataset=test_data,batch_size=32,shuffle=False)"
   ]
  },
  {
   "cell_type": "code",
   "execution_count": 8,
   "metadata": {},
   "outputs": [],
   "source": [
    "def train_step(model: torch.nn.Module, \n",
    "               dataloader: torch.utils.data.DataLoader, \n",
    "               loss_fn: torch.nn.Module, \n",
    "               optimizer: torch.optim.Optimizer):\n",
    "    model.train()\n",
    "    train_loss, train_acc = 0, 0\n",
    "    \n",
    "    for batch, (X, y) in enumerate(dataloader):\n",
    "        y_pred = model(X)\n",
    "        loss = loss_fn(y_pred, y)\n",
    "        train_loss += loss.item() \n",
    "        optimizer.zero_grad()\n",
    "        loss.backward()\n",
    "        optimizer.step()\n",
    "        y_pred_class = torch.argmax(torch.softmax(y_pred, dim=1), dim=1)\n",
    "        train_acc += (y_pred_class == y).sum().item()/len(y_pred)\n",
    "\n",
    "    train_loss = train_loss / len(dataloader)\n",
    "    train_acc = train_acc / len(dataloader)\n",
    "    return train_loss, train_acc\n",
    "\n",
    "def test_step(model: torch.nn.Module, \n",
    "              dataloader: torch.utils.data.DataLoader, \n",
    "              loss_fn: torch.nn.Module):\n",
    "    model.eval() \n",
    "    test_loss, test_acc = 0, 0\n",
    "    \n",
    "    with torch.inference_mode():\n",
    "        for batch, (X, y) in enumerate(dataloader):\n",
    "            test_pred_logits = model(X)\n",
    "            loss = loss_fn(test_pred_logits, y)\n",
    "            test_loss += loss.item()\n",
    "            test_pred_labels = test_pred_logits.argmax(dim=1)\n",
    "            test_acc += ((test_pred_labels == y).sum().item()/len(test_pred_labels))\n",
    "            \n",
    "    test_loss = test_loss / len(dataloader)\n",
    "    test_acc = test_acc / len(dataloader)\n",
    "    return test_loss, test_acc\n",
    "\n",
    "from tqdm.auto import tqdm\n",
    "\n",
    "def train(model:torch.nn.Module,\n",
    "          train_dataloader:torch.utils.data.DataLoader,\n",
    "          test_dataloader:torch.utils.data.DataLoader,\n",
    "          optimizer:torch.optim.Optimizer,\n",
    "          loss_fn:torch.nn.Module,\n",
    "          epochs:int):\n",
    "    \n",
    "    results={'train_loss':[],\n",
    "             'train_acc':[],\n",
    "             'test_loss':[],\n",
    "             'test_acc':[]}\n",
    "    \n",
    "    for i in tqdm(range(epochs)):\n",
    "        train_loss,train_acc=train_step(model=model,\n",
    "                                        dataloader=train_dataloader,\n",
    "                                        loss_fn=loss_fn,\n",
    "                                        optimizer=optimizer)\n",
    "        test_loss,test_acc=test_step(model=model,\n",
    "                                     dataloader=test_dataloader,\n",
    "                                     loss_fn=loss_fn)\n",
    "        print(f'Epoch {i} | Train loss: {train_loss:.4f},Train acc: {train_acc:.4f} | Test loss: {test_loss:.4f},Test acc: {test_acc:.4f}')\n",
    "        results['train_loss'].append(train_loss)\n",
    "        results['train_acc'].append(train_acc)\n",
    "        results['test_loss'].append(test_loss)\n",
    "        results['test_acc'].append(test_acc)\n",
    "\n",
    "    return results"
   ]
  },
  {
   "cell_type": "code",
   "execution_count": 9,
   "metadata": {},
   "outputs": [
    {
     "data": {
      "text/plain": [
       "(['Bears', 'Pandas'], {'Bears': 0, 'Pandas': 1})"
      ]
     },
     "execution_count": 9,
     "metadata": {},
     "output_type": "execute_result"
    }
   ],
   "source": [
    "class_names=train_data.classes\n",
    "class_dict=train_data.class_to_idx\n",
    "\n",
    "class_names,class_dict"
   ]
  },
  {
   "cell_type": "code",
   "execution_count": 13,
   "metadata": {},
   "outputs": [],
   "source": [
    "class Model(nn.Module):\n",
    "\n",
    "    def __init__(self):\n",
    "        super().__init__()\n",
    "        self.conv=nn.Sequential(\n",
    "            nn.Conv2d(3,6,3,1),\n",
    "            nn.ReLU(),\n",
    "            nn.MaxPool2d(kernel_size=2,stride=2),\n",
    "            nn.Conv2d(6,16,3,1),\n",
    "            nn.ReLU(),\n",
    "            nn.MaxPool2d(kernel_size=2,stride=2),\n",
    "            nn.Flatten(),\n",
    "            nn.Linear(54*54*16,120),\n",
    "            nn.ReLU(),\n",
    "            nn.Linear(120,84),\n",
    "            nn.ReLU(),\n",
    "            nn.Linear(84,len(class_names))\n",
    "        )\n",
    "\n",
    "    def forward(self,X):\n",
    "        return F.log_softmax(self.conv(X))"
   ]
  },
  {
   "cell_type": "code",
   "execution_count": 26,
   "metadata": {},
   "outputs": [],
   "source": [
    "torch.manual_seed(101)\n",
    "model1=Model()\n",
    "criterion=nn.CrossEntropyLoss()\n",
    "optimizer=torch.optim.Adam(model1.parameters(),lr=0.001)"
   ]
  },
  {
   "cell_type": "code",
   "execution_count": 27,
   "metadata": {},
   "outputs": [
    {
     "data": {
      "application/vnd.jupyter.widget-view+json": {
       "model_id": "247decf051f94b4bb68c33633cafca3d",
       "version_major": 2,
       "version_minor": 0
      },
      "text/plain": [
       "  0%|          | 0/3 [00:00<?, ?it/s]"
      ]
     },
     "metadata": {},
     "output_type": "display_data"
    },
    {
     "name": "stdout",
     "output_type": "stream",
     "text": [
      "Epoch 0 | Train loss: 0.4897,Train acc: 0.7977 | Test loss: 0.1294,Test acc: 0.9922\n",
      "Epoch 1 | Train loss: 0.0566,Train acc: 0.9902 | Test loss: 0.0050,Test acc: 1.0000\n",
      "Epoch 2 | Train loss: 0.0182,Train acc: 0.9961 | Test loss: 0.0009,Test acc: 1.0000\n"
     ]
    }
   ],
   "source": [
    "torch.manual_seed(42)\n",
    "\n",
    "n=3\n",
    "model1_results=train(\n",
    "    model=model1,\n",
    "    train_dataloader=train_loader,\n",
    "    test_dataloader=test_loader,\n",
    "    optimizer=optimizer,\n",
    "    loss_fn=criterion,\n",
    "    epochs=n\n",
    ")"
   ]
  },
  {
   "cell_type": "code",
   "execution_count": 28,
   "metadata": {},
   "outputs": [
    {
     "name": "stdout",
     "output_type": "stream",
     "text": [
      "Actual: Bears | Predicted: Bears\n",
      "Actual: Bears | Predicted: Bears\n",
      "Actual: Bears | Predicted: Bears\n",
      "Actual: Bears | Predicted: Bears\n",
      "Actual: Bears | Predicted: Bears\n",
      "Actual: Bears | Predicted: Bears\n",
      "Actual: Bears | Predicted: Bears\n",
      "Actual: Bears | Predicted: Bears\n",
      "Actual: Bears | Predicted: Bears\n",
      "Actual: Bears | Predicted: Bears\n",
      "Actual: Bears | Predicted: Bears\n",
      "Actual: Bears | Predicted: Bears\n",
      "Actual: Bears | Predicted: Bears\n",
      "Actual: Bears | Predicted: Bears\n",
      "Actual: Bears | Predicted: Bears\n",
      "Actual: Bears | Predicted: Bears\n",
      "Actual: Bears | Predicted: Bears\n",
      "Actual: Bears | Predicted: Bears\n",
      "Actual: Bears | Predicted: Bears\n",
      "Actual: Bears | Predicted: Bears\n",
      "Actual: Bears | Predicted: Bears\n",
      "Actual: Bears | Predicted: Bears\n",
      "Actual: Bears | Predicted: Bears\n",
      "Actual: Bears | Predicted: Bears\n",
      "Actual: Bears | Predicted: Bears\n",
      "Actual: Bears | Predicted: Bears\n",
      "Actual: Bears | Predicted: Bears\n",
      "Actual: Bears | Predicted: Bears\n",
      "Actual: Bears | Predicted: Bears\n",
      "Actual: Bears | Predicted: Bears\n",
      "Actual: Bears | Predicted: Bears\n",
      "Actual: Bears | Predicted: Bears\n",
      "Actual: Bears | Predicted: Bears\n",
      "Actual: Bears | Predicted: Bears\n",
      "Actual: Bears | Predicted: Bears\n",
      "Actual: Bears | Predicted: Bears\n",
      "Actual: Bears | Predicted: Bears\n",
      "Actual: Bears | Predicted: Bears\n",
      "Actual: Bears | Predicted: Bears\n",
      "Actual: Bears | Predicted: Bears\n",
      "Actual: Bears | Predicted: Bears\n",
      "Actual: Bears | Predicted: Bears\n",
      "Actual: Bears | Predicted: Bears\n",
      "Actual: Bears | Predicted: Bears\n",
      "Actual: Bears | Predicted: Bears\n",
      "Actual: Bears | Predicted: Bears\n",
      "Actual: Bears | Predicted: Bears\n",
      "Actual: Bears | Predicted: Bears\n",
      "Actual: Bears | Predicted: Bears\n",
      "Actual: Bears | Predicted: Bears\n",
      "Actual: Pandas | Predicted: Pandas\n",
      "Actual: Pandas | Predicted: Pandas\n",
      "Actual: Pandas | Predicted: Pandas\n",
      "Actual: Pandas | Predicted: Pandas\n",
      "Actual: Pandas | Predicted: Pandas\n",
      "Actual: Pandas | Predicted: Pandas\n",
      "Actual: Pandas | Predicted: Pandas\n",
      "Actual: Pandas | Predicted: Pandas\n",
      "Actual: Pandas | Predicted: Pandas\n",
      "Actual: Pandas | Predicted: Pandas\n",
      "Actual: Pandas | Predicted: Pandas\n",
      "Actual: Pandas | Predicted: Pandas\n",
      "Actual: Pandas | Predicted: Pandas\n",
      "Actual: Pandas | Predicted: Pandas\n",
      "Actual: Pandas | Predicted: Pandas\n",
      "Actual: Pandas | Predicted: Pandas\n",
      "Actual: Pandas | Predicted: Pandas\n",
      "Actual: Pandas | Predicted: Pandas\n",
      "Actual: Pandas | Predicted: Pandas\n",
      "Actual: Pandas | Predicted: Pandas\n",
      "Actual: Pandas | Predicted: Pandas\n",
      "Actual: Pandas | Predicted: Pandas\n",
      "Actual: Pandas | Predicted: Pandas\n",
      "Actual: Pandas | Predicted: Pandas\n",
      "Actual: Pandas | Predicted: Pandas\n",
      "Actual: Pandas | Predicted: Pandas\n",
      "Actual: Pandas | Predicted: Pandas\n",
      "Actual: Pandas | Predicted: Pandas\n",
      "Actual: Pandas | Predicted: Pandas\n",
      "Actual: Pandas | Predicted: Pandas\n",
      "Actual: Pandas | Predicted: Pandas\n",
      "Actual: Pandas | Predicted: Pandas\n",
      "Actual: Pandas | Predicted: Pandas\n",
      "Actual: Pandas | Predicted: Pandas\n",
      "Actual: Pandas | Predicted: Pandas\n",
      "Actual: Pandas | Predicted: Pandas\n",
      "Actual: Pandas | Predicted: Pandas\n",
      "Actual: Pandas | Predicted: Pandas\n",
      "Actual: Pandas | Predicted: Pandas\n",
      "Actual: Pandas | Predicted: Pandas\n",
      "Actual: Pandas | Predicted: Pandas\n",
      "Actual: Pandas | Predicted: Pandas\n",
      "Actual: Pandas | Predicted: Pandas\n",
      "Actual: Pandas | Predicted: Pandas\n",
      "Actual: Pandas | Predicted: Pandas\n",
      "Actual: Pandas | Predicted: Pandas\n",
      "Actual: Pandas | Predicted: Pandas\n",
      "Actual: Pandas | Predicted: Pandas\n",
      "Actual: Pandas | Predicted: Pandas\n",
      "Actual: Pandas | Predicted: Pandas\n",
      "Number of correct: 100/100 | Accuracy: 100.0\n"
     ]
    }
   ],
   "source": [
    "index=list(range(100))\n",
    "\n",
    "c=0\n",
    "for i in index:\n",
    "    model1.eval()\n",
    "    with torch.no_grad():\n",
    "        pred=model1(test_data[i][0].view(1,3,224,224)).argmax()\n",
    "\n",
    "    print(f'Actual: {class_names[test_data[i][1]]} | Predicted: {class_names[pred.item()]}')\n",
    "    if class_names[test_data[i][1]]==class_names[pred.item()]:\n",
    "        c+=1\n",
    "\n",
    "print(f'Number of correct: {c}/{len(test_data)} | Accuracy: {c*100/len(test_data)}')"
   ]
  },
  {
   "cell_type": "code",
   "execution_count": 46,
   "metadata": {},
   "outputs": [],
   "source": [
    "bear1='/home/amirtesh/Downloads/Computers/Python/MachineLearning/Udemy Pytorch/Convolutional neural networks/Pandas Bears/bear1.jpg'\n",
    "bear2='/home/amirtesh/Downloads/Computers/Python/MachineLearning/Udemy Pytorch/Convolutional neural networks/Pandas Bears/bear2.jpg'\n",
    "bear3='/home/amirtesh/Downloads/Computers/Python/MachineLearning/Udemy Pytorch/Convolutional neural networks/Pandas Bears/bear3.jpg'\n",
    "\n",
    "panda1='/home/amirtesh/Downloads/Computers/Python/MachineLearning/Udemy Pytorch/Convolutional neural networks/Pandas Bears/panda1.jpg'\n",
    "panda2='/home/amirtesh/Downloads/Computers/Python/MachineLearning/Udemy Pytorch/Convolutional neural networks/Pandas Bears/panda2.jpg'\n",
    "panda3='/home/amirtesh/Downloads/Computers/Python/MachineLearning/Udemy Pytorch/Convolutional neural networks/Pandas Bears/panda3.jpg'"
   ]
  },
  {
   "cell_type": "code",
   "execution_count": 47,
   "metadata": {},
   "outputs": [],
   "source": [
    "test_class=[bear1,bear2,bear3,panda1,panda2,panda3]"
   ]
  },
  {
   "cell_type": "code",
   "execution_count": 48,
   "metadata": {},
   "outputs": [],
   "source": [
    "def tester(model:nn.Module,\n",
    "           image,\n",
    "           transform:torchvision.transforms.transforms,\n",
    "           class_names:list):\n",
    "    \n",
    "    image=torchvision.io.read_image(str(image))\n",
    "    image=image.type(torch.float32)/255\n",
    "    image_new=transform(image)\n",
    "    model.eval()\n",
    "    with torch.inference_mode():\n",
    "        logit=model(image_new.unsqueeze(0))\n",
    "    prob=torch.softmax(logit,dim=1)\n",
    "    label=class_names[torch.argmax(prob,dim=1)]\n",
    "    print(f'Predicted breed: {label}')"
   ]
  },
  {
   "cell_type": "code",
   "execution_count": 49,
   "metadata": {},
   "outputs": [],
   "source": [
    "transform=transforms.Compose([\n",
    "    transforms.Resize(size=(224,224))\n",
    "])"
   ]
  },
  {
   "cell_type": "code",
   "execution_count": 50,
   "metadata": {},
   "outputs": [
    {
     "name": "stdout",
     "output_type": "stream",
     "text": [
      "Predicted breed: Bears\n",
      "Predicted breed: Bears\n",
      "Predicted breed: Bears\n",
      "Predicted breed: Pandas\n",
      "Predicted breed: Pandas\n",
      "Predicted breed: Pandas\n"
     ]
    }
   ],
   "source": [
    "for i in test_class:\n",
    "    \n",
    "    tester(model=model1,\n",
    "           image=i,\n",
    "           transform=transform,\n",
    "           class_names=class_names)"
   ]
  },
  {
   "cell_type": "code",
   "execution_count": null,
   "metadata": {},
   "outputs": [],
   "source": []
  }
 ],
 "metadata": {
  "kernelspec": {
   "display_name": "PY_ENV",
   "language": "python",
   "name": "python3"
  },
  "language_info": {
   "codemirror_mode": {
    "name": "ipython",
    "version": 3
   },
   "file_extension": ".py",
   "mimetype": "text/x-python",
   "name": "python",
   "nbconvert_exporter": "python",
   "pygments_lexer": "ipython3",
   "version": "3.10.12"
  }
 },
 "nbformat": 4,
 "nbformat_minor": 2
}
